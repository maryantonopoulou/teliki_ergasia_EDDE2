{
  "nbformat": 4,
  "nbformat_minor": 0,
  "metadata": {
    "colab": {
      "provenance": [],
      "authorship_tag": "ABX9TyNxmhzkIIAB3CdMm4rcnqVP",
      "include_colab_link": true
    },
    "kernelspec": {
      "name": "python3",
      "display_name": "Python 3"
    },
    "language_info": {
      "name": "python"
    }
  },
  "cells": [
    {
      "cell_type": "markdown",
      "metadata": {
        "id": "view-in-github",
        "colab_type": "text"
      },
      "source": [
        "<a href=\"https://colab.research.google.com/github/maryantonopoulou/teliki_ergasia_EDDE2/blob/main/newsbomb_teasers.ipynb\" target=\"_parent\"><img src=\"https://colab.research.google.com/assets/colab-badge.svg\" alt=\"Open In Colab\"/></a>"
      ]
    },
    {
      "cell_type": "code",
      "execution_count": null,
      "metadata": {
        "id": "H9ZYeoVwp7XS"
      },
      "outputs": [],
      "source": [
        "import requests\n",
        "from bs4 import BeautifulSoup\n",
        "import pandas as pd\n",
        "\n",
        "import time\n",
        "import random\n",
        "\n",
        "from datetime import datetime"
      ]
    },
    {
      "cell_type": "code",
      "source": [
        "def get_webpage_soup(url):\n",
        "  headers = {\n",
        "        \"User-Agent\": \"Mozilla/5.0\"\n",
        "    }\n",
        "  response = requests.get(url, headers=headers)\n",
        "  if response.status_code != 200:\n",
        "    print(f\"Error: {response.status_code}\")\n",
        "    return None\n",
        "  else:\n",
        "    print(f\"{url} was scraped successfully\")\n",
        "    return BeautifulSoup(response.text, 'html.parser')"
      ],
      "metadata": {
        "id": "sMCn3Q1YqFcz"
      },
      "execution_count": null,
      "outputs": []
    },
    {
      "cell_type": "code",
      "source": [
        "def get_teaser_elements_from_articlesL(articlesL):\n",
        "    articles_dataL = []\n",
        "\n",
        "    for article in articlesL:\n",
        "        # Τίτλος\n",
        "        title_tag = article.find(\"h3\", class_=\"item-title\")\n",
        "        title = title_tag.text.strip() if title_tag else \"\"\n",
        "\n",
        "        # Article URL\n",
        "        try:\n",
        "            article_url = title_tag.find(\"a\")[\"href\"] if title_tag else \"\"\n",
        "        except:\n",
        "            article_url = \"\"\n",
        "\n",
        "        # Ημερομηνία και Ώρα\n",
        "\n",
        "        try:\n",
        "            date_str = article.find(\"span\", {\"class\": \"item-date\"}).text.strip()\n",
        "            time_str = \"\"\n",
        "            time_tag = article.find(\"item-date\")\n",
        "        except:\n",
        "            date_str = \"\"\n",
        "            time_str = \"\"\n",
        "\n",
        "        # Excerpt (καμία πραγματική περίληψη στο search teaser, οπότε placeholder ή το subtitle αν υπάρχει)\n",
        "        excerpt = \"\"\n",
        "        excerpt_tag = article.find(\"div\", class_=\"item-intro\")\n",
        "        if excerpt_tag:\n",
        "            excerpt = excerpt_tag.text.strip()\n",
        "\n",
        "        # Section\n",
        "        section = \"\"\n",
        "        category_tag = article.find(\"span\", class_=\"item-category\")\n",
        "        if category_tag:\n",
        "            section = category_tag.text.strip()\n",
        "\n",
        "        # Author (συνήθως δεν υπάρχει στο teaser)\n",
        "        author = \"\"\n",
        "\n",
        "        articleD = {\n",
        "            \"title\": title,\n",
        "            \"article_url\": article_url,\n",
        "            \"date\": date_str,\n",
        "            \"excerpt\": excerpt,\n",
        "            \"section\": section\n",
        "        }\n",
        "\n",
        "        articles_dataL.append(articleD)\n",
        "\n",
        "    return articles_dataL"
      ],
      "metadata": {
        "id": "QquI40HUqFZ9"
      },
      "execution_count": null,
      "outputs": []
    },
    {
      "cell_type": "code",
      "source": [
        "def scrape_newsbomb_teaser_pages(search_term, start_page_nbr, end_page_nbr):\n",
        "\n",
        "  all_articles_dataL = []\n",
        "\n",
        "  print(f\"\\rScraping started\", end=\"\")\n",
        "\n",
        "  for page_nbr in range(start_page_nbr, end_page_nbr+1):\n",
        "\n",
        "    url =f\"https://www.newsbomb.gr/search?q={search_term}&page={page_nbr}&q={search_term}&section=oles-oi-eidhseis\"\n",
        "\n",
        "    print(f\"\\rScraping page {page_nbr}: {url}\" + \" \"*20, end=\"\")\n",
        "\n",
        "    soup = get_webpage_soup(url)\n",
        "\n",
        "\n",
        "    articlesL = soup.find(\"div\", {\"class\": \"page-section news-items-section\"}).find_all(\"div\", {\"class\": \"card\"})\n",
        "\n",
        "    page_articles_dataL = get_teaser_elements_from_articlesL(articlesL)\n",
        "\n",
        "    all_articles_dataL.extend(page_articles_dataL)\n",
        "\n",
        "    delay = random.uniform(1, 3)\n",
        "    time.sleep(delay)\n",
        "\n",
        "\n",
        "  df = pd.DataFrame(all_articles_dataL)\n",
        "  print(f\"\\rScraping completed. Fetshed {len(df)} articles.\")\n",
        "  return df"
      ],
      "metadata": {
        "id": "zEjpT4oUqFXn"
      },
      "execution_count": null,
      "outputs": []
    },
    {
      "cell_type": "code",
      "source": [
        "ergatika_atiximata_df = scrape_newsbomb_teaser_pages(\"εργατικο%20ατυχημα\", 1, 20)"
      ],
      "metadata": {
        "colab": {
          "base_uri": "https://localhost:8080/"
        },
        "id": "-Y8tH4jGqFVS",
        "outputId": "4903ed9f-3837-4e94-ba85-c0c3908d84f9"
      },
      "execution_count": null,
      "outputs": [
        {
          "output_type": "stream",
          "name": "stdout",
          "text": [
            "Scraping page 1: https://www.newsbomb.gr/search?q=εργατικο%20ατυχημα&page=1&q=εργατικο%20ατυχημα&section=oles-oi-eidhseis                    https://www.newsbomb.gr/search?q=εργατικο%20ατυχημα&page=1&q=εργατικο%20ατυχημα&section=oles-oi-eidhseis was scraped successfully\n",
            "Scraping page 2: https://www.newsbomb.gr/search?q=εργατικο%20ατυχημα&page=2&q=εργατικο%20ατυχημα&section=oles-oi-eidhseis                    https://www.newsbomb.gr/search?q=εργατικο%20ατυχημα&page=2&q=εργατικο%20ατυχημα&section=oles-oi-eidhseis was scraped successfully\n",
            "Scraping page 3: https://www.newsbomb.gr/search?q=εργατικο%20ατυχημα&page=3&q=εργατικο%20ατυχημα&section=oles-oi-eidhseis                    https://www.newsbomb.gr/search?q=εργατικο%20ατυχημα&page=3&q=εργατικο%20ατυχημα&section=oles-oi-eidhseis was scraped successfully\n",
            "Scraping page 4: https://www.newsbomb.gr/search?q=εργατικο%20ατυχημα&page=4&q=εργατικο%20ατυχημα&section=oles-oi-eidhseis                    https://www.newsbomb.gr/search?q=εργατικο%20ατυχημα&page=4&q=εργατικο%20ατυχημα&section=oles-oi-eidhseis was scraped successfully\n",
            "Scraping page 5: https://www.newsbomb.gr/search?q=εργατικο%20ατυχημα&page=5&q=εργατικο%20ατυχημα&section=oles-oi-eidhseis                    https://www.newsbomb.gr/search?q=εργατικο%20ατυχημα&page=5&q=εργατικο%20ατυχημα&section=oles-oi-eidhseis was scraped successfully\n",
            "Scraping page 6: https://www.newsbomb.gr/search?q=εργατικο%20ατυχημα&page=6&q=εργατικο%20ατυχημα&section=oles-oi-eidhseis                    https://www.newsbomb.gr/search?q=εργατικο%20ατυχημα&page=6&q=εργατικο%20ατυχημα&section=oles-oi-eidhseis was scraped successfully\n",
            "Scraping page 7: https://www.newsbomb.gr/search?q=εργατικο%20ατυχημα&page=7&q=εργατικο%20ατυχημα&section=oles-oi-eidhseis                    https://www.newsbomb.gr/search?q=εργατικο%20ατυχημα&page=7&q=εργατικο%20ατυχημα&section=oles-oi-eidhseis was scraped successfully\n",
            "Scraping page 8: https://www.newsbomb.gr/search?q=εργατικο%20ατυχημα&page=8&q=εργατικο%20ατυχημα&section=oles-oi-eidhseis                    https://www.newsbomb.gr/search?q=εργατικο%20ατυχημα&page=8&q=εργατικο%20ατυχημα&section=oles-oi-eidhseis was scraped successfully\n",
            "Scraping page 9: https://www.newsbomb.gr/search?q=εργατικο%20ατυχημα&page=9&q=εργατικο%20ατυχημα&section=oles-oi-eidhseis                    https://www.newsbomb.gr/search?q=εργατικο%20ατυχημα&page=9&q=εργατικο%20ατυχημα&section=oles-oi-eidhseis was scraped successfully\n",
            "Scraping page 10: https://www.newsbomb.gr/search?q=εργατικο%20ατυχημα&page=10&q=εργατικο%20ατυχημα&section=oles-oi-eidhseis                    https://www.newsbomb.gr/search?q=εργατικο%20ατυχημα&page=10&q=εργατικο%20ατυχημα&section=oles-oi-eidhseis was scraped successfully\n",
            "Scraping page 11: https://www.newsbomb.gr/search?q=εργατικο%20ατυχημα&page=11&q=εργατικο%20ατυχημα&section=oles-oi-eidhseis                    https://www.newsbomb.gr/search?q=εργατικο%20ατυχημα&page=11&q=εργατικο%20ατυχημα&section=oles-oi-eidhseis was scraped successfully\n",
            "Scraping page 12: https://www.newsbomb.gr/search?q=εργατικο%20ατυχημα&page=12&q=εργατικο%20ατυχημα&section=oles-oi-eidhseis                    https://www.newsbomb.gr/search?q=εργατικο%20ατυχημα&page=12&q=εργατικο%20ατυχημα&section=oles-oi-eidhseis was scraped successfully\n",
            "Scraping page 13: https://www.newsbomb.gr/search?q=εργατικο%20ατυχημα&page=13&q=εργατικο%20ατυχημα&section=oles-oi-eidhseis                    https://www.newsbomb.gr/search?q=εργατικο%20ατυχημα&page=13&q=εργατικο%20ατυχημα&section=oles-oi-eidhseis was scraped successfully\n",
            "Scraping page 14: https://www.newsbomb.gr/search?q=εργατικο%20ατυχημα&page=14&q=εργατικο%20ατυχημα&section=oles-oi-eidhseis                    https://www.newsbomb.gr/search?q=εργατικο%20ατυχημα&page=14&q=εργατικο%20ατυχημα&section=oles-oi-eidhseis was scraped successfully\n",
            "Scraping page 15: https://www.newsbomb.gr/search?q=εργατικο%20ατυχημα&page=15&q=εργατικο%20ατυχημα&section=oles-oi-eidhseis                    https://www.newsbomb.gr/search?q=εργατικο%20ατυχημα&page=15&q=εργατικο%20ατυχημα&section=oles-oi-eidhseis was scraped successfully\n",
            "Scraping page 16: https://www.newsbomb.gr/search?q=εργατικο%20ατυχημα&page=16&q=εργατικο%20ατυχημα&section=oles-oi-eidhseis                    https://www.newsbomb.gr/search?q=εργατικο%20ατυχημα&page=16&q=εργατικο%20ατυχημα&section=oles-oi-eidhseis was scraped successfully\n",
            "Scraping page 17: https://www.newsbomb.gr/search?q=εργατικο%20ατυχημα&page=17&q=εργατικο%20ατυχημα&section=oles-oi-eidhseis                    https://www.newsbomb.gr/search?q=εργατικο%20ατυχημα&page=17&q=εργατικο%20ατυχημα&section=oles-oi-eidhseis was scraped successfully\n",
            "Scraping page 18: https://www.newsbomb.gr/search?q=εργατικο%20ατυχημα&page=18&q=εργατικο%20ατυχημα&section=oles-oi-eidhseis                    https://www.newsbomb.gr/search?q=εργατικο%20ατυχημα&page=18&q=εργατικο%20ατυχημα&section=oles-oi-eidhseis was scraped successfully\n",
            "Scraping page 19: https://www.newsbomb.gr/search?q=εργατικο%20ατυχημα&page=19&q=εργατικο%20ατυχημα&section=oles-oi-eidhseis                    https://www.newsbomb.gr/search?q=εργατικο%20ατυχημα&page=19&q=εργατικο%20ατυχημα&section=oles-oi-eidhseis was scraped successfully\n",
            "Scraping page 20: https://www.newsbomb.gr/search?q=εργατικο%20ατυχημα&page=20&q=εργατικο%20ατυχημα&section=oles-oi-eidhseis                    https://www.newsbomb.gr/search?q=εργατικο%20ατυχημα&page=20&q=εργατικο%20ατυχημα&section=oles-oi-eidhseis was scraped successfully\n",
            "Scraping completed. Fetshed 395 articles.\n"
          ]
        }
      ]
    },
    {
      "cell_type": "code",
      "source": [
        "from google.colab import drive\n",
        "drive.mount('/content/drive')"
      ],
      "metadata": {
        "colab": {
          "base_uri": "https://localhost:8080/"
        },
        "id": "qqHrcU5_sUPl",
        "outputId": "8ab1dbb6-d837-4c1a-f0cd-48b658e559a7"
      },
      "execution_count": null,
      "outputs": [
        {
          "output_type": "stream",
          "name": "stdout",
          "text": [
            "Mounted at /content/drive\n"
          ]
        }
      ]
    },
    {
      "cell_type": "code",
      "source": [
        "ergatika_atiximata_df.to_csv('/content/drive/MyDrive/CSVFILES/newsbomb_teasers.csv')"
      ],
      "metadata": {
        "id": "qvI64x3RqFTH"
      },
      "execution_count": null,
      "outputs": []
    },
    {
      "cell_type": "code",
      "source": [],
      "metadata": {
        "id": "TiiqYNfvqFQ0"
      },
      "execution_count": null,
      "outputs": []
    },
    {
      "cell_type": "code",
      "source": [],
      "metadata": {
        "id": "mD0sdyLPqFOQ"
      },
      "execution_count": null,
      "outputs": []
    },
    {
      "cell_type": "code",
      "source": [],
      "metadata": {
        "id": "c3w_2BxLqFME"
      },
      "execution_count": null,
      "outputs": []
    },
    {
      "cell_type": "code",
      "source": [],
      "metadata": {
        "id": "ED5G2iHlqFJd"
      },
      "execution_count": null,
      "outputs": []
    }
  ]
}